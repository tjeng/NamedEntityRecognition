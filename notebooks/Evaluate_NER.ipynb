{
  "nbformat": 4,
  "nbformat_minor": 0,
  "metadata": {
    "colab": {
      "name": "Evaluate NER.ipynb",
      "provenance": [],
      "collapsed_sections": [],
      "toc_visible": true
    },
    "kernelspec": {
      "name": "python3",
      "display_name": "Python 3"
    }
  },
  "cells": [
    {
      "cell_type": "code",
      "metadata": {
        "id": "fbKVlYKFXveD"
      },
      "source": [
        "import pandas as pd\n",
        "import ast\n",
        "from google.colab import drive\n",
        "from pathlib import Path, PurePath\n",
        "import numpy as np"
      ],
      "execution_count": 1,
      "outputs": []
    },
    {
      "cell_type": "markdown",
      "metadata": {
        "id": "PHPrShusYSuC"
      },
      "source": [
        "## Set up directory to read file\n",
        "\n",
        "Change `local_dir` based on the location of test results file."
      ]
    },
    {
      "cell_type": "code",
      "metadata": {
        "id": "WwVAzPztX2Xz",
        "colab": {
          "base_uri": "https://localhost:8080/"
        },
        "outputId": "8d86b0ef-7ce6-4432-e982-e3c66f673a79"
      },
      "source": [
        "drive.mount('/content/drive')\n",
        "drive_path=PurePath('/content/drive/My Drive')\n",
        "local_dir = drive_path/'COVID-19/dataverse/'\n",
        "file = 'time_period_results.csv'"
      ],
      "execution_count": 2,
      "outputs": [
        {
          "output_type": "stream",
          "text": [
            "Mounted at /content/drive\n"
          ],
          "name": "stdout"
        }
      ]
    },
    {
      "cell_type": "code",
      "metadata": {
        "id": "yhr28XRdYh4d"
      },
      "source": [
        "evals = pd.read_csv(local_dir/'evaluation_labels.csv')"
      ],
      "execution_count": 3,
      "outputs": []
    },
    {
      "cell_type": "code",
      "metadata": {
        "id": "7Zhb4RBDYmNa"
      },
      "source": [
        "evals['revised_cf_label'] = np.where(evals.revised_cf_label.isnull(),evals.cf_label,evals.revised_cf_label)"
      ],
      "execution_count": 4,
      "outputs": []
    },
    {
      "cell_type": "code",
      "metadata": {
        "id": "arTCYFS-Y9qH"
      },
      "source": [
        "evals = evals[evals.revised_cf_label!='del']"
      ],
      "execution_count": 5,
      "outputs": []
    },
    {
      "cell_type": "code",
      "metadata": {
        "id": "z_UT7yEPZR0c",
        "colab": {
          "base_uri": "https://localhost:8080/"
        },
        "outputId": "1081562f-402d-47be-901a-5490c6fe393a"
      },
      "source": [
        "evals.shape"
      ],
      "execution_count": 6,
      "outputs": [
        {
          "output_type": "execute_result",
          "data": {
            "text/plain": [
              "(265, 7)"
            ]
          },
          "metadata": {
            "tags": []
          },
          "execution_count": 6
        }
      ]
    },
    {
      "cell_type": "code",
      "metadata": {
        "id": "yvkYRbi9ZrPl",
        "colab": {
          "base_uri": "https://localhost:8080/"
        },
        "outputId": "f30f46b0-d02b-4bd2-b4e3-44ba9a4d2999"
      },
      "source": [
        "len(evals)"
      ],
      "execution_count": 7,
      "outputs": [
        {
          "output_type": "execute_result",
          "data": {
            "text/plain": [
              "265"
            ]
          },
          "metadata": {
            "tags": []
          },
          "execution_count": 7
        }
      ]
    },
    {
      "cell_type": "code",
      "metadata": {
        "id": "f2PnPP3_aEkv"
      },
      "source": [
        "evals.index = np.arange(len(evals))"
      ],
      "execution_count": 8,
      "outputs": []
    },
    {
      "cell_type": "code",
      "metadata": {
        "id": "0c90q0oGYdPN"
      },
      "source": [
        "result = pd.read_csv(local_dir/file)"
      ],
      "execution_count": 9,
      "outputs": []
    },
    {
      "cell_type": "code",
      "metadata": {
        "id": "Y1l6qt8JB-y5",
        "colab": {
          "base_uri": "https://localhost:8080/",
          "height": 415
        },
        "outputId": "441b2c43-659c-4af5-e348-9bb104cb25c3"
      },
      "source": [
        "result"
      ],
      "execution_count": 10,
      "outputs": [
        {
          "output_type": "execute_result",
          "data": {
            "text/html": [
              "<div>\n",
              "<style scoped>\n",
              "    .dataframe tbody tr th:only-of-type {\n",
              "        vertical-align: middle;\n",
              "    }\n",
              "\n",
              "    .dataframe tbody tr th {\n",
              "        vertical-align: top;\n",
              "    }\n",
              "\n",
              "    .dataframe thead th {\n",
              "        text-align: right;\n",
              "    }\n",
              "</style>\n",
              "<table border=\"1\" class=\"dataframe\">\n",
              "  <thead>\n",
              "    <tr style=\"text-align: right;\">\n",
              "      <th></th>\n",
              "      <th>sentence</th>\n",
              "      <th>true_text</th>\n",
              "      <th>true_label</th>\n",
              "      <th>predicted_text</th>\n",
              "      <th>predicted_label</th>\n",
              "    </tr>\n",
              "  </thead>\n",
              "  <tbody>\n",
              "    <tr>\n",
              "      <th>0</th>\n",
              "      <td>We determined that the mean duration from onse...</td>\n",
              "      <td>['mean duration from onset to discharge', '18....</td>\n",
              "      <td>['TPcontext', 'TPdata']</td>\n",
              "      <td>['mean duration from onset to discharge', '18....</td>\n",
              "      <td>['TPcontext', 'TPdata']</td>\n",
              "    </tr>\n",
              "    <tr>\n",
              "      <th>1</th>\n",
              "      <td>The mean incubation period was estimated at 5·...</td>\n",
              "      <td>['mean incubation period', '5·2 days (95% CI 1...</td>\n",
              "      <td>['TPcontext', 'TPdata', 'TPcontext', 'TPdata']</td>\n",
              "      <td>['mean incubation period', '5·2 days (95% CI 1...</td>\n",
              "      <td>['TPcontext', 'TPdata', 'TPcontext', 'TPdata']</td>\n",
              "    </tr>\n",
              "    <tr>\n",
              "      <th>2</th>\n",
              "      <td>The median duration of fever was 9 days (range...</td>\n",
              "      <td>['median duration of fever', '9 days (range: 2...</td>\n",
              "      <td>['TPcontext', 'TPdata']</td>\n",
              "      <td>['median duration of fever', '9 days (range: 2...</td>\n",
              "      <td>['TPcontext', 'TPdata']</td>\n",
              "    </tr>\n",
              "    <tr>\n",
              "      <th>3</th>\n",
              "      <td>There is a mean 5-day delay from symptom onset...</td>\n",
              "      <td>['hospitalized', '3-7 days after onset']</td>\n",
              "      <td>['TPcontext', 'TPdata']</td>\n",
              "      <td>['mean 5-day delay from symptom onset to detec...</td>\n",
              "      <td>['TPcontext', 'TPdata']</td>\n",
              "    </tr>\n",
              "    <tr>\n",
              "      <th>4</th>\n",
              "      <td>This proportion was obtained by simulating val...</td>\n",
              "      <td>['mean incubation time', '5.2 days']</td>\n",
              "      <td>['TPcontext', 'TPdata']</td>\n",
              "      <td>['mean incubation time', '5.2 days']</td>\n",
              "      <td>['TPcontext', 'TPdata']</td>\n",
              "    </tr>\n",
              "    <tr>\n",
              "      <th>...</th>\n",
              "      <td>...</td>\n",
              "      <td>...</td>\n",
              "      <td>...</td>\n",
              "      <td>...</td>\n",
              "      <td>...</td>\n",
              "    </tr>\n",
              "    <tr>\n",
              "      <th>86</th>\n",
              "      <td>14.15 If effectiveness of intervention in cont...</td>\n",
              "      <td>['incubation period', '5.8 days']</td>\n",
              "      <td>['TPcontext', 'TPdata']</td>\n",
              "      <td>['incubation period', '5.8 days']</td>\n",
              "      <td>['TPcontext', 'TPdata']</td>\n",
              "    </tr>\n",
              "    <tr>\n",
              "      <th>87</th>\n",
              "      <td>In the provinces outside Hubei we estimate the...</td>\n",
              "      <td>['serial interval', 'on average 5.1 days (95%C...</td>\n",
              "      <td>['TPcontext', 'TPdata']</td>\n",
              "      <td>['on average 5.1 days (95%CI: 1.3-11.6)']</td>\n",
              "      <td>['TPdata']</td>\n",
              "    </tr>\n",
              "    <tr>\n",
              "      <th>88</th>\n",
              "      <td>We observed the mean serial interval was 4.1 d...</td>\n",
              "      <td>['mean serial interval', '4.1 days', '8.4-day ...</td>\n",
              "      <td>['TPcontext', 'TPdata', 'TPdata', 'TPcontext']</td>\n",
              "      <td>['mean serial interval', '4.1 days', '7.6-day ...</td>\n",
              "      <td>['TPcontext', 'TPdata', 'TPcontext']</td>\n",
              "    </tr>\n",
              "    <tr>\n",
              "      <th>89</th>\n",
              "      <td>5 During the 2003 SARS outbreak, 238 probable ...</td>\n",
              "      <td>[' aged', '65 years and older']</td>\n",
              "      <td>['TPcontext', 'TPdata']</td>\n",
              "      <td>['among people', '65 years']</td>\n",
              "      <td>['TPcontext', 'TPdata']</td>\n",
              "    </tr>\n",
              "    <tr>\n",
              "      <th>90</th>\n",
              "      <td>By pooling individual data from seven countrie...</td>\n",
              "      <td>['mean incubation period', '7.44 days', 'laten...</td>\n",
              "      <td>['TPcontext', 'TPdata', 'TPcontext', 'TPdata',...</td>\n",
              "      <td>['mean incubation period', '7.44 days', 'laten...</td>\n",
              "      <td>['TPcontext', 'TPdata', 'TPcontext', 'TPcontex...</td>\n",
              "    </tr>\n",
              "  </tbody>\n",
              "</table>\n",
              "<p>91 rows × 5 columns</p>\n",
              "</div>"
            ],
            "text/plain": [
              "                                             sentence  ...                                    predicted_label\n",
              "0   We determined that the mean duration from onse...  ...                            ['TPcontext', 'TPdata']\n",
              "1   The mean incubation period was estimated at 5·...  ...     ['TPcontext', 'TPdata', 'TPcontext', 'TPdata']\n",
              "2   The median duration of fever was 9 days (range...  ...                            ['TPcontext', 'TPdata']\n",
              "3   There is a mean 5-day delay from symptom onset...  ...                            ['TPcontext', 'TPdata']\n",
              "4   This proportion was obtained by simulating val...  ...                            ['TPcontext', 'TPdata']\n",
              "..                                                ...  ...                                                ...\n",
              "86  14.15 If effectiveness of intervention in cont...  ...                            ['TPcontext', 'TPdata']\n",
              "87  In the provinces outside Hubei we estimate the...  ...                                         ['TPdata']\n",
              "88  We observed the mean serial interval was 4.1 d...  ...               ['TPcontext', 'TPdata', 'TPcontext']\n",
              "89  5 During the 2003 SARS outbreak, 238 probable ...  ...                            ['TPcontext', 'TPdata']\n",
              "90  By pooling individual data from seven countrie...  ...  ['TPcontext', 'TPdata', 'TPcontext', 'TPcontex...\n",
              "\n",
              "[91 rows x 5 columns]"
            ]
          },
          "metadata": {
            "tags": []
          },
          "execution_count": 10
        }
      ]
    },
    {
      "cell_type": "markdown",
      "metadata": {
        "id": "C9nL2OmQTEwD"
      },
      "source": [
        "# Compare actual and predicted texts and labels\n",
        "\n",
        "Adds an additional column labeling whether the text is a true positive, false positive, or false negative. Methods outlined [here](https://towardsdatascience.com/entity-level-evaluation-for-ner-task-c21fb3a8edf)."
      ]
    },
    {
      "cell_type": "code",
      "metadata": {
        "id": "-thoQnhFlEXM"
      },
      "source": [
        "def calc_cf(x):\n",
        "  '''Returns a data frame of predicted and actual texts along with the classification label'''\n",
        "  results_list = []\n",
        "  sentence = x['sentence']\n",
        "  true_text = ast.literal_eval(x['true_text'])\n",
        "  predicted_text = ast.literal_eval(x['predicted_text'])\n",
        "  true_label = ast.literal_eval(x['true_label'])\n",
        "  predicted_label = ast.literal_eval(x['predicted_label'])\n",
        "  if len(true_label) == len(predicted_label):\n",
        "    texts = list(zip(true_text,predicted_text))\n",
        "    labels = list(zip(true_label, predicted_label))\n",
        "    for i in range(len(texts)):\n",
        "      (true_text, predict_text) = texts[i]\n",
        "      (true_label, predict_label) = labels[i]\n",
        "      if ((true_text in predict_text) and (true_label == predict_label)) or ((predict_text in true_text) and (true_label == predict_label)):\n",
        "        label = 'tp'\n",
        "      elif ((true_label == predict_label) and (true_text != predict_text)) or (true_label != predict_label):\n",
        "        label = 'fn & fp'\n",
        "      else:\n",
        "        continue\n",
        "      results_list.append({'sentence':sentence,'true_text':true_text,'predicted_text':predict_text,'true_label':true_label,'predicted_label':predict_label,'cf_label':label})  \n",
        "  else:\n",
        "    results_list = compare_two_list(true_label, predicted_label, true_text, predicted_text, sentence)\n",
        "  results_df = pd.DataFrame(results_list,columns=['sentence','true_text','predicted_text','true_label','predicted_label','cf_label'])\n",
        "  return results_df"
      ],
      "execution_count": 11,
      "outputs": []
    },
    {
      "cell_type": "code",
      "metadata": {
        "id": "_stmyeaJvOdw"
      },
      "source": [
        "def compare_two_list(true_label, predicted_label, true_text, predicted_text, sentence):\n",
        "  '''Compare actual and predicted text if they have different lengths'''\n",
        "  # Compare predicted with actual to find false and true positives\n",
        "  results_list = []\n",
        "  for i in range(len(predicted_text)):\n",
        "    label = None\n",
        "    for j in range(len(true_text)):\n",
        "      if (predicted_text[i] in true_text[j]) and (predicted_label[i] == true_label[j]):\n",
        "        label = 'tp'\n",
        "        predict_text = predicted_text[i]\n",
        "        actual_text = true_text[j]\n",
        "        actual_label = true_label[j]\n",
        "        predict_label = predicted_label[i]\n",
        "        break\n",
        "    if label != 'tp':\n",
        "      label = 'fp'\n",
        "      predict_text = predicted_text[i]\n",
        "      predict_label = predicted_label[i]\n",
        "      actual_text = None\n",
        "      actual_label = None\n",
        "    results_list.append({'sentence':sentence,'true_text':actual_text,'predicted_text':predict_text,'true_label':actual_label,'predicted_label':predict_label,'cf_label':label})\n",
        "  # Compare actual with predicted to find false negatives\n",
        "  for k in range(len(true_text)):\n",
        "    label1 = None\n",
        "    for h in range(len(predicted_text)):\n",
        "      if (true_text[k] in predicted_text[h]) and (true_label[k] == predicted_label[h]):\n",
        "        label1 = 'tp'\n",
        "        break\n",
        "    if label1 != 'tp':\n",
        "      label1 = 'fn'\n",
        "      actual_text1 = true_text[k]\n",
        "      actual_label1 = true_label[k]\n",
        "      predict_text1 = None\n",
        "      predict_label1 = None\n",
        "      results_list.append({'sentence':sentence,'true_text':actual_text1,'predicted_text':predict_text1,'true_label':actual_label1,'predicted_label':predict_label1,'cf_label':label1})\n",
        "  return results_list"
      ],
      "execution_count": 12,
      "outputs": []
    },
    {
      "cell_type": "code",
      "metadata": {
        "id": "HlI6vZh-5YMd"
      },
      "source": [
        "def compare_two_list(true_label, predicted_label, true_text, predicted_text, sentence):\n",
        "  '''Compare actual and predicted text if they have different lengths'''\n",
        "  results_list = []\n",
        "  dic = {}\n",
        "  for i in range(len(true_text)):\n",
        "    for j in range(len(predicted_text)):\n",
        "      if ((predicted_text[j] in true_text[i]) and (true_label[i] == predicted_label[j])) or ((true_text[i] in predicted_text[j]) and (true_label[i] == predicted_label[j])):\n",
        "        dic[true_text[i]] = predicted_text[j]\n",
        "        label = 'tp'\n",
        "        predict_text = predicted_text[j]\n",
        "        actual_text = true_text[i]\n",
        "        actual_label = true_label[i]\n",
        "        predict_label = predicted_label[j]\n",
        "        results_list.append({'sentence':sentence,'true_text':actual_text,'predicted_text':predict_text,'true_label':actual_label,'predicted_label':predict_label,'cf_label':label})\n",
        "        break  \n",
        "  for t in range(len(true_text)):\n",
        "    if true_text[t] not in dic.keys():\n",
        "      label1 = 'fn'\n",
        "      actual_text1 = true_text[t]\n",
        "      actual_label1 = true_label[t]\n",
        "      predict_text1 = None\n",
        "      predict_label1 = None\n",
        "      results_list.append({'sentence':sentence,'true_text':actual_text1,'predicted_text':predict_text1,'true_label':actual_label1,'predicted_label':predict_label1,'cf_label':label1})\n",
        "  for p in range(len(predicted_text)):\n",
        "    if predicted_text[p] not in dic.values():\n",
        "      label2 = 'fp'\n",
        "      actual_text2 = None\n",
        "      actual_label2 = None\n",
        "      predict_text2 = predicted_text[p]\n",
        "      predict_label2 = predicted_label[p]\n",
        "      results_list.append({'sentence':sentence,'true_text':actual_text2,'predicted_text':predict_text2,'true_label':actual_label2,'predicted_label':predict_label2,'cf_label':label2})\n",
        "  return results_list"
      ],
      "execution_count": 13,
      "outputs": []
    },
    {
      "cell_type": "code",
      "metadata": {
        "id": "z7Pbt4Xuofvb"
      },
      "source": [
        "# Running code for entire data frame\n",
        "tot = pd.DataFrame()\n",
        "for i in range(len(result)):\n",
        "  #print(i)\n",
        "  res = calc_cf(result.loc[i])\n",
        "  tot = pd.concat([tot,res], ignore_index=True)"
      ],
      "execution_count": 14,
      "outputs": []
    },
    {
      "cell_type": "code",
      "metadata": {
        "id": "EGwT49Jnefq1",
        "colab": {
          "base_uri": "https://localhost:8080/",
          "height": 570
        },
        "outputId": "6ef7c432-13ab-4a84-cef1-11d49ad99f8b"
      },
      "source": [
        "tot[tot.cf_label=='fn & fp']"
      ],
      "execution_count": 15,
      "outputs": [
        {
          "output_type": "execute_result",
          "data": {
            "text/html": [
              "<div>\n",
              "<style scoped>\n",
              "    .dataframe tbody tr th:only-of-type {\n",
              "        vertical-align: middle;\n",
              "    }\n",
              "\n",
              "    .dataframe tbody tr th {\n",
              "        vertical-align: top;\n",
              "    }\n",
              "\n",
              "    .dataframe thead th {\n",
              "        text-align: right;\n",
              "    }\n",
              "</style>\n",
              "<table border=\"1\" class=\"dataframe\">\n",
              "  <thead>\n",
              "    <tr style=\"text-align: right;\">\n",
              "      <th></th>\n",
              "      <th>sentence</th>\n",
              "      <th>true_text</th>\n",
              "      <th>predicted_text</th>\n",
              "      <th>true_label</th>\n",
              "      <th>predicted_label</th>\n",
              "      <th>cf_label</th>\n",
              "    </tr>\n",
              "  </thead>\n",
              "  <tbody>\n",
              "    <tr>\n",
              "      <th>8</th>\n",
              "      <td>There is a mean 5-day delay from symptom onset...</td>\n",
              "      <td>hospitalized</td>\n",
              "      <td>mean 5-day delay from symptom onset to detecti...</td>\n",
              "      <td>TPcontext</td>\n",
              "      <td>TPcontext</td>\n",
              "      <td>fn &amp; fp</td>\n",
              "    </tr>\n",
              "    <tr>\n",
              "      <th>37</th>\n",
              "      <td>Most infected people are close to peak infecti...</td>\n",
              "      <td>3-5 days, beginning ≈3 days after being exposed</td>\n",
              "      <td>about 3-5 days</td>\n",
              "      <td>TPdata</td>\n",
              "      <td>TPdata</td>\n",
              "      <td>fn &amp; fp</td>\n",
              "    </tr>\n",
              "    <tr>\n",
              "      <th>64</th>\n",
              "      <td>The median duration between symptoms onset and...</td>\n",
              "      <td>8. days</td>\n",
              "      <td>median duration between symptoms onset and adm...</td>\n",
              "      <td>TPdata</td>\n",
              "      <td>TPcontext</td>\n",
              "      <td>fn &amp; fp</td>\n",
              "    </tr>\n",
              "    <tr>\n",
              "      <th>65</th>\n",
              "      <td>The median duration between symptoms onset and...</td>\n",
              "      <td>median duration between symptoms onset and adm...</td>\n",
              "      <td>8. days in group</td>\n",
              "      <td>TPcontext</td>\n",
              "      <td>TPdata</td>\n",
              "      <td>fn &amp; fp</td>\n",
              "    </tr>\n",
              "    <tr>\n",
              "      <th>78</th>\n",
              "      <td>The median incubation duration was 6 days, ran...</td>\n",
              "      <td>8 patients got more longer incubation duration</td>\n",
              "      <td>1 to 32 days</td>\n",
              "      <td>TPcontext</td>\n",
              "      <td>TPdata</td>\n",
              "      <td>fn &amp; fp</td>\n",
              "    </tr>\n",
              "    <tr>\n",
              "      <th>79</th>\n",
              "      <td>The median incubation duration was 6 days, ran...</td>\n",
              "      <td>more than 14 days</td>\n",
              "      <td>24</td>\n",
              "      <td>TPdata</td>\n",
              "      <td>TPdata</td>\n",
              "      <td>fn &amp; fp</td>\n",
              "    </tr>\n",
              "    <tr>\n",
              "      <th>103</th>\n",
              "      <td>We estimated the median incubation period to f...</td>\n",
              "      <td>2.6 days (CI, 2.1 to 3.7 days)</td>\n",
              "      <td>within 2.6 days (CI, 2.1 to 3.7 days</td>\n",
              "      <td>TPdata</td>\n",
              "      <td>TPdata</td>\n",
              "      <td>fn &amp; fp</td>\n",
              "    </tr>\n",
              "    <tr>\n",
              "      <th>132</th>\n",
              "      <td>12 As the epidemic progressed, we observed a f...</td>\n",
              "      <td>increase in number of cases</td>\n",
              "      <td>65 years and older</td>\n",
              "      <td>TPcontext</td>\n",
              "      <td>TPdata</td>\n",
              "      <td>fn &amp; fp</td>\n",
              "    </tr>\n",
              "    <tr>\n",
              "      <th>133</th>\n",
              "      <td>12 As the epidemic progressed, we observed a f...</td>\n",
              "      <td>aged 65 years and older</td>\n",
              "      <td>(&lt;</td>\n",
              "      <td>TPdata</td>\n",
              "      <td>TPcontext</td>\n",
              "      <td>fn &amp; fp</td>\n",
              "    </tr>\n",
              "    <tr>\n",
              "      <th>143</th>\n",
              "      <td>Twenty five (40%) of the patients were aged 19...</td>\n",
              "      <td>aged</td>\n",
              "      <td>Twenty five</td>\n",
              "      <td>TPcontext</td>\n",
              "      <td>TPcontext</td>\n",
              "      <td>fn &amp; fp</td>\n",
              "    </tr>\n",
              "    <tr>\n",
              "      <th>149</th>\n",
              "      <td>The time from symptom onset to hospital admiss...</td>\n",
              "      <td>4·4 days (95% CI 0·0-14·0) during the first pe...</td>\n",
              "      <td>epidemic progressed, decreasing</td>\n",
              "      <td>TPdata</td>\n",
              "      <td>TPcontext</td>\n",
              "      <td>fn &amp; fp</td>\n",
              "    </tr>\n",
              "    <tr>\n",
              "      <th>160</th>\n",
              "      <td>Results Twenty one patients (6 males and 15 fe...</td>\n",
              "      <td>age</td>\n",
              "      <td>15 females</td>\n",
              "      <td>TPcontext</td>\n",
              "      <td>TPcontext</td>\n",
              "      <td>fn &amp; fp</td>\n",
              "    </tr>\n",
              "    <tr>\n",
              "      <th>191</th>\n",
              "      <td>10 days after onset of symptoms, half of the p...</td>\n",
              "      <td>restore normal body temperature</td>\n",
              "      <td>10 days after onset of symptoms</td>\n",
              "      <td>TPcontext</td>\n",
              "      <td>TPdata</td>\n",
              "      <td>fn &amp; fp</td>\n",
              "    </tr>\n",
              "    <tr>\n",
              "      <th>192</th>\n",
              "      <td>10 days after onset of symptoms, half of the p...</td>\n",
              "      <td>10 days after onset of symptoms</td>\n",
              "      <td>to restore normal</td>\n",
              "      <td>TPdata</td>\n",
              "      <td>TPcontext</td>\n",
              "      <td>fn &amp; fp</td>\n",
              "    </tr>\n",
              "    <tr>\n",
              "      <th>207</th>\n",
              "      <td>In our study, the incubation period is similar...</td>\n",
              "      <td>mean onset-admission interval</td>\n",
              "      <td>incubation period</td>\n",
              "      <td>TPcontext</td>\n",
              "      <td>TPcontext</td>\n",
              "      <td>fn &amp; fp</td>\n",
              "    </tr>\n",
              "    <tr>\n",
              "      <th>248</th>\n",
              "      <td>The mean incubation period is 6.4 days (95% 17...</td>\n",
              "      <td>0.97 and 13.10</td>\n",
              "      <td>95th percentile</td>\n",
              "      <td>TPdata</td>\n",
              "      <td>TPdata</td>\n",
              "      <td>fn &amp; fp</td>\n",
              "    </tr>\n",
              "    <tr>\n",
              "      <th>258</th>\n",
              "      <td>5 During the 2003 SARS outbreak, 238 probable ...</td>\n",
              "      <td>aged</td>\n",
              "      <td>among people</td>\n",
              "      <td>TPcontext</td>\n",
              "      <td>TPcontext</td>\n",
              "      <td>fn &amp; fp</td>\n",
              "    </tr>\n",
              "  </tbody>\n",
              "</table>\n",
              "</div>"
            ],
            "text/plain": [
              "                                              sentence  ... cf_label\n",
              "8    There is a mean 5-day delay from symptom onset...  ...  fn & fp\n",
              "37   Most infected people are close to peak infecti...  ...  fn & fp\n",
              "64   The median duration between symptoms onset and...  ...  fn & fp\n",
              "65   The median duration between symptoms onset and...  ...  fn & fp\n",
              "78   The median incubation duration was 6 days, ran...  ...  fn & fp\n",
              "79   The median incubation duration was 6 days, ran...  ...  fn & fp\n",
              "103  We estimated the median incubation period to f...  ...  fn & fp\n",
              "132  12 As the epidemic progressed, we observed a f...  ...  fn & fp\n",
              "133  12 As the epidemic progressed, we observed a f...  ...  fn & fp\n",
              "143  Twenty five (40%) of the patients were aged 19...  ...  fn & fp\n",
              "149  The time from symptom onset to hospital admiss...  ...  fn & fp\n",
              "160  Results Twenty one patients (6 males and 15 fe...  ...  fn & fp\n",
              "191  10 days after onset of symptoms, half of the p...  ...  fn & fp\n",
              "192  10 days after onset of symptoms, half of the p...  ...  fn & fp\n",
              "207  In our study, the incubation period is similar...  ...  fn & fp\n",
              "248  The mean incubation period is 6.4 days (95% 17...  ...  fn & fp\n",
              "258  5 During the 2003 SARS outbreak, 238 probable ...  ...  fn & fp\n",
              "\n",
              "[17 rows x 6 columns]"
            ]
          },
          "metadata": {
            "tags": []
          },
          "execution_count": 15
        }
      ]
    },
    {
      "cell_type": "markdown",
      "metadata": {
        "id": "8L56ijqcT4nY"
      },
      "source": [
        "# Calculating statistics"
      ]
    },
    {
      "cell_type": "code",
      "metadata": {
        "id": "3GIXvpVfanr2",
        "colab": {
          "base_uri": "https://localhost:8080/"
        },
        "outputId": "7b172102-c15d-4d50-fc3c-1768b00329ca"
      },
      "source": [
        "evals.revised_cf_label.value_counts()"
      ],
      "execution_count": 16,
      "outputs": [
        {
          "output_type": "execute_result",
          "data": {
            "text/plain": [
              "tp         189\n",
              "fn          42\n",
              "fp          17\n",
              "fn & fp     12\n",
              "tp & fn      2\n",
              "fn & fn      1\n",
              "Name: revised_cf_label, dtype: int64"
            ]
          },
          "metadata": {
            "tags": []
          },
          "execution_count": 16
        }
      ]
    },
    {
      "cell_type": "code",
      "metadata": {
        "id": "gTqhHuuoUy1Z"
      },
      "source": [
        "def calc_stats(x, label):\n",
        "  fn = 0\n",
        "  fp = 0\n",
        "  tp = 0\n",
        "  for i in range(len(x)):\n",
        "    if x.loc[i][label] == 'fn & fp':\n",
        "      fn += 1\n",
        "      fp += 1\n",
        "    elif x.loc[i][label] == 'tp & fn':\n",
        "      fn += 1\n",
        "      tp += 1\n",
        "    elif x.loc[i][label] == 'fn & fn':\n",
        "      fn += 2\n",
        "    elif x.loc[i][label] == 'fn':\n",
        "      fn += 1\n",
        "    elif x.loc[i][label] == 'fp':\n",
        "      fp += 1\n",
        "    else:\n",
        "      tp += 1\n",
        "  return (fn, fp, tp)"
      ],
      "execution_count": 17,
      "outputs": []
    },
    {
      "cell_type": "code",
      "metadata": {
        "id": "wqNji2NlWT8W",
        "colab": {
          "base_uri": "https://localhost:8080/"
        },
        "outputId": "15d297ac-acb9-4691-a9cd-c91195b29e50"
      },
      "source": [
        "(fn, fp, tp) = calc_stats(tot,'cf_label')\n",
        "print('Number of false negatives',fn)\n",
        "print('Number of false postitives', fp)\n",
        "print('Number of true positives', tp)\n",
        "print('Total Number of records', fn+fp+tp)"
      ],
      "execution_count": 18,
      "outputs": [
        {
          "output_type": "stream",
          "text": [
            "Number of false negatives 58\n",
            "Number of false postitives 52\n",
            "Number of true positives 173\n",
            "Total Number of records 283\n"
          ],
          "name": "stdout"
        }
      ]
    },
    {
      "cell_type": "code",
      "metadata": {
        "id": "0wJ5eNMkWxjZ"
      },
      "source": [
        "def cf(tp, fp, fn):\n",
        "  recall = tp/(tp+fn)\n",
        "  precision = tp/(tp+fp)\n",
        "  f1 = (2*recall*precision)/(recall+precision)\n",
        "  return (recall, precision, f1)"
      ],
      "execution_count": 19,
      "outputs": []
    },
    {
      "cell_type": "code",
      "metadata": {
        "id": "kEQ9f8DJXQTU"
      },
      "source": [
        "recall, precision, f1 = cf(tp, fp, fn)"
      ],
      "execution_count": 20,
      "outputs": []
    },
    {
      "cell_type": "code",
      "metadata": {
        "id": "m1zKf3h4XUBT",
        "colab": {
          "base_uri": "https://localhost:8080/"
        },
        "outputId": "c634e65b-54f3-47d5-d6e7-f0ee02e10a6b"
      },
      "source": [
        "print('Precision',round(precision,2))\n",
        "print('Recall',round(recall,2))\n",
        "print('F1 score',round(f1,2))"
      ],
      "execution_count": 21,
      "outputs": [
        {
          "output_type": "stream",
          "text": [
            "Precision 0.77\n",
            "Recall 0.75\n",
            "F1 score 0.76\n"
          ],
          "name": "stdout"
        }
      ]
    }
  ]
}