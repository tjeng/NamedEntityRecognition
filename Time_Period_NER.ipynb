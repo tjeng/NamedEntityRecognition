{
  "nbformat": 4,
  "nbformat_minor": 0,
  "metadata": {
    "colab": {
      "name": "Time Period NER.ipynb",
      "provenance": [],
      "collapsed_sections": [],
      "toc_visible": true,
      "include_colab_link": true
    },
    "kernelspec": {
      "name": "python3",
      "display_name": "Python 3"
    },
    "accelerator": "GPU"
  },
  "cells": [
    {
      "cell_type": "markdown",
      "metadata": {
        "id": "view-in-github",
        "colab_type": "text"
      },
      "source": [
        "<a href=\"https://colab.research.google.com/github/tjeng/NamedEntityRecognition/blob/master/Time_Period_NER.ipynb\" target=\"_parent\"><img src=\"https://colab.research.google.com/assets/colab-badge.svg\" alt=\"Open In Colab\"/></a>"
      ]
    },
    {
      "cell_type": "markdown",
      "metadata": {
        "id": "AUvtAPbHYJPH",
        "colab_type": "text"
      },
      "source": [
        "#Setup"
      ]
    },
    {
      "cell_type": "code",
      "metadata": {
        "id": "3YvaY2jJkrfq",
        "colab_type": "code",
        "colab": {}
      },
      "source": [
        "# Import & Settings\n",
        "import pandas as pd\n",
        "import numpy as np\n",
        "import os\n",
        "from google.colab import drive\n",
        "from pathlib import Path, PurePath\n",
        "import random\n",
        "from collections import defaultdict\n",
        "\n",
        "!pip install pyDataverse -q\n",
        "#documentation here: https://pydataverse.readthedocs.io/en/latest/index.html#quickstart\n",
        "from pyDataverse.api import Api\n",
        "from pyDataverse.models import Dataverse"
      ],
      "execution_count": 2,
      "outputs": []
    },
    {
      "cell_type": "code",
      "metadata": {
        "id": "D2ZgVdHDUOc6",
        "colab_type": "code",
        "colab": {}
      },
      "source": [
        "import io\n",
        "import gzip\n",
        "import json"
      ],
      "execution_count": 3,
      "outputs": []
    },
    {
      "cell_type": "code",
      "metadata": {
        "id": "qR2f52fDUZt0",
        "colab_type": "code",
        "colab": {}
      },
      "source": [
        "def setup_local_data():\n",
        "  drive.mount('/content/drive')\n",
        "  drive_path=PurePath('/content/drive/My Drive')\n",
        "  local_dir = drive_path/'COVID-19'/'dataverse'\n",
        "  #Make /COVID-19 and /dataverse directories if needed...\n",
        "  if not Path(local_dir).is_dir():\n",
        "    os.makedirs(local_dir)\n",
        "  return local_dir"
      ],
      "execution_count": 4,
      "outputs": []
    },
    {
      "cell_type": "code",
      "metadata": {
        "id": "9kwB3ArMVpAm",
        "colab_type": "code",
        "colab": {
          "base_uri": "https://localhost:8080/",
          "height": 122
        },
        "outputId": "f8c62f37-6ceb-43d0-b0c8-d15475e2c96f"
      },
      "source": [
        "local_dir = setup_local_data()"
      ],
      "execution_count": 5,
      "outputs": [
        {
          "output_type": "stream",
          "text": [
            "Go to this URL in a browser: https://accounts.google.com/o/oauth2/auth?client_id=947318989803-6bn6qk8qdgf4n4g3pfee6491hc0brc4i.apps.googleusercontent.com&redirect_uri=urn%3aietf%3awg%3aoauth%3a2.0%3aoob&response_type=code&scope=email%20https%3a%2f%2fwww.googleapis.com%2fauth%2fdocs.test%20https%3a%2f%2fwww.googleapis.com%2fauth%2fdrive%20https%3a%2f%2fwww.googleapis.com%2fauth%2fdrive.photos.readonly%20https%3a%2f%2fwww.googleapis.com%2fauth%2fpeopleapi.readonly\n",
            "\n",
            "Enter your authorization code:\n",
            "··········\n",
            "Mounted at /content/drive\n"
          ],
          "name": "stdout"
        }
      ]
    },
    {
      "cell_type": "markdown",
      "metadata": {
        "id": "5tDT0RScNijo",
        "colab_type": "text"
      },
      "source": [
        "# Connecting Dataverse to Colab\n"
      ]
    },
    {
      "cell_type": "markdown",
      "metadata": {
        "id": "x8Hy4F3SNnkM",
        "colab_type": "text"
      },
      "source": [
        "The below code for fetching the dataset is all thanks to Alex Lofgran.\n",
        "\n"
      ]
    },
    {
      "cell_type": "code",
      "metadata": {
        "id": "hq4gIQlylCJd",
        "colab_type": "code",
        "colab": {
          "base_uri": "https://localhost:8080/",
          "height": 34
        },
        "outputId": "ef162f2b-ad42-4a09-fc32-2f91c5018dfd"
      },
      "source": [
        "# Establish connection to Dataverse\n",
        "base_url = 'http://datasets.coronawhy.org'\n",
        "api = Api(base_url)\n",
        "print('Dataverse connection status: ', api.status)"
      ],
      "execution_count": 6,
      "outputs": [
        {
          "output_type": "stream",
          "text": [
            "Dataverse connection status:  OK\n"
          ],
          "name": "stdout"
        }
      ]
    },
    {
      "cell_type": "code",
      "metadata": {
        "id": "RETK_4O5lFDp",
        "colab_type": "code",
        "colab": {
          "base_uri": "https://localhost:8080/",
          "height": 221
        },
        "outputId": "309de0a9-2909-4107-f278-d41845926c26"
      },
      "source": [
        "# Get dataverse info\n",
        "dv = 'task-ties' #alias for task-ties\n",
        "response = api.get_dataverse(dv)\n",
        "response.json()"
      ],
      "execution_count": 7,
      "outputs": [
        {
          "output_type": "execute_result",
          "data": {
            "text/plain": [
              "{'data': {'affiliation': 'CoronaWhy',\n",
              "  'alias': 'task-ties',\n",
              "  'creationDate': '2020-04-15T22:13:08Z',\n",
              "  'dataverseContacts': [{'contactEmail': 'dataverse-k8s-contact@mailinator.com',\n",
              "    'displayOrder': 0}],\n",
              "  'dataverseType': 'RESEARCH_GROUP',\n",
              "  'description': 'What is known about transmission, incubation, and environmental stability? More at <a href=\"https://github.com/CoronaWhy/task-ties\">Task Tes github</a>',\n",
              "  'id': 4,\n",
              "  'name': 'CoronaWhy Task Ties',\n",
              "  'ownerId': 1,\n",
              "  'permissionRoot': True},\n",
              " 'status': 'OK'}"
            ]
          },
          "metadata": {
            "tags": []
          },
          "execution_count": 7
        }
      ]
    },
    {
      "cell_type": "code",
      "metadata": {
        "id": "TEf41L9flHDc",
        "colab_type": "code",
        "colab": {
          "base_uri": "https://localhost:8080/",
          "height": 1000
        },
        "outputId": "0ddcbbbd-1955-4c8e-c905-200307644a62"
      },
      "source": [
        "# Get dataset information by persistent id\n",
        "dset = 'doi:10.5072/FK2/KKBTXL'\n",
        "response = api.get_dataset(dset, is_pid = True) # in Dataverse \n",
        "print('Response results: ')\n",
        "display(response.json())\n",
        "print()\n",
        "\n",
        "# Get dataset ID\n",
        "dataset_id = response.json()['data']['id']\n",
        "print('Dataset ID: ', dataset_id, '\\n')\n",
        "\n",
        "# Get datafile ID\n",
        "datafile_id = response.json()['data']['latestVersion']['files'][1]['dataFile']['id']\n",
        "print('Datafile ID: ', datafile_id, '\\n')"
      ],
      "execution_count": 8,
      "outputs": [
        {
          "output_type": "stream",
          "text": [
            "Response results: \n"
          ],
          "name": "stdout"
        },
        {
          "output_type": "display_data",
          "data": {
            "text/plain": [
              "{'data': {'authority': '10.5072',\n",
              "  'id': 98,\n",
              "  'identifier': 'FK2/KKBTXL',\n",
              "  'latestVersion': {'createTime': '2020-06-20T02:30:57Z',\n",
              "   'datasetId': 98,\n",
              "   'datasetPersistentId': 'doi:10.5072/FK2/KKBTXL',\n",
              "   'fileAccessRequest': False,\n",
              "   'files': [{'dataFile': {'checksum': {'type': 'MD5',\n",
              "       'value': '6802ac5c8fb9620452f2a6fd23f16db2'},\n",
              "      'contentType': 'application/json',\n",
              "      'creationDate': '2020-06-03',\n",
              "      'filename': 'time_period_and_age_train.json',\n",
              "      'filesize': 120141,\n",
              "      'id': 72320,\n",
              "      'md5': '6802ac5c8fb9620452f2a6fd23f16db2',\n",
              "      'persistentId': '',\n",
              "      'pidURL': '',\n",
              "      'rootDataFileId': -1,\n",
              "      'storageIdentifier': '172784e6119-c9f8a9c754d9'},\n",
              "     'datasetVersionId': 12692,\n",
              "     'label': 'time_period_and_age_train.json',\n",
              "     'restricted': False,\n",
              "     'version': 1},\n",
              "    {'dataFile': {'checksum': {'type': 'MD5',\n",
              "       'value': '8be730cfbc96a36cd214a3cdd40376b3'},\n",
              "      'contentType': 'application/json',\n",
              "      'creationDate': '2020-06-20',\n",
              "      'description': 'Re-annotated dataset to improve model performance',\n",
              "      'filename': 'time_period_train_reannotated_spacy.json',\n",
              "      'filesize': 120142,\n",
              "      'id': 338311,\n",
              "      'md5': '8be730cfbc96a36cd214a3cdd40376b3',\n",
              "      'persistentId': '',\n",
              "      'pidURL': '',\n",
              "      'rootDataFileId': -1,\n",
              "      'storageIdentifier': '172cf8ff666-3185df82e062'},\n",
              "     'datasetVersionId': 12692,\n",
              "     'description': 'Re-annotated dataset to improve model performance',\n",
              "     'label': 'time_period_train_reannotated_spacy.json',\n",
              "     'restricted': False,\n",
              "     'version': 1}],\n",
              "   'id': 12692,\n",
              "   'lastUpdateTime': '2020-06-20T02:31:17Z',\n",
              "   'license': 'CC0',\n",
              "   'metadataBlocks': {'citation': {'displayName': 'Citation Metadata',\n",
              "     'fields': [{'multiple': False,\n",
              "       'typeClass': 'primitive',\n",
              "       'typeName': 'title',\n",
              "       'value': 'Time Period NER Training Data'},\n",
              "      {'multiple': True,\n",
              "       'typeClass': 'compound',\n",
              "       'typeName': 'author',\n",
              "       'value': [{'authorName': {'multiple': False,\n",
              "          'typeClass': 'primitive',\n",
              "          'typeName': 'authorName',\n",
              "          'value': 'Chen, Christine'}},\n",
              "        {'authorName': {'multiple': False,\n",
              "          'typeClass': 'primitive',\n",
              "          'typeName': 'authorName',\n",
              "          'value': 'Tjeng, Janice'}}]},\n",
              "      {'multiple': True,\n",
              "       'typeClass': 'compound',\n",
              "       'typeName': 'datasetContact',\n",
              "       'value': [{'datasetContactEmail': {'multiple': False,\n",
              "          'typeClass': 'primitive',\n",
              "          'typeName': 'datasetContactEmail',\n",
              "          'value': 'ckingdom11@gmail.com'},\n",
              "         'datasetContactName': {'multiple': False,\n",
              "          'typeClass': 'primitive',\n",
              "          'typeName': 'datasetContactName',\n",
              "          'value': 'Chen, Christine'}}]},\n",
              "      {'multiple': True,\n",
              "       'typeClass': 'compound',\n",
              "       'typeName': 'dsDescription',\n",
              "       'value': [{'dsDescriptionDate': {'multiple': False,\n",
              "          'typeClass': 'primitive',\n",
              "          'typeName': 'dsDescriptionDate',\n",
              "          'value': '2020-06-02'},\n",
              "         'dsDescriptionValue': {'multiple': False,\n",
              "          'typeClass': 'primitive',\n",
              "          'typeName': 'dsDescriptionValue',\n",
              "          'value': 'A set of sentences with annotations on various time periods, including age, incubation period, length of hospitalization etc'}}]},\n",
              "      {'multiple': True,\n",
              "       'typeClass': 'controlledVocabulary',\n",
              "       'typeName': 'subject',\n",
              "       'value': ['Computer and Information Science']},\n",
              "      {'multiple': False,\n",
              "       'typeClass': 'primitive',\n",
              "       'typeName': 'depositor',\n",
              "       'value': 'Chen, Christine'},\n",
              "      {'multiple': False,\n",
              "       'typeClass': 'primitive',\n",
              "       'typeName': 'dateOfDeposit',\n",
              "       'value': '2020-05-06'}]}},\n",
              "   'releaseTime': '2020-06-20T02:31:17Z',\n",
              "   'storageIdentifier': 'file://10.5072/FK2/KKBTXL',\n",
              "   'termsOfUse': 'CC0 Waiver',\n",
              "   'versionMinorNumber': 0,\n",
              "   'versionNumber': 6,\n",
              "   'versionState': 'RELEASED'},\n",
              "  'persistentUrl': 'https://doi.org/10.5072/FK2/KKBTXL',\n",
              "  'protocol': 'doi',\n",
              "  'publicationDate': '2020-05-06',\n",
              "  'publisher': 'COVID-19 Data Hub',\n",
              "  'storageIdentifier': 'file://10.5072/FK2/KKBTXL'},\n",
              " 'status': 'OK'}"
            ]
          },
          "metadata": {
            "tags": []
          }
        },
        {
          "output_type": "stream",
          "text": [
            "\n",
            "Dataset ID:  98 \n",
            "\n",
            "Datafile ID:  338311 \n",
            "\n"
          ],
          "name": "stdout"
        }
      ]
    },
    {
      "cell_type": "code",
      "metadata": {
        "id": "dnlx58LzlLmY",
        "colab_type": "code",
        "colab": {
          "base_uri": "https://localhost:8080/",
          "height": 68
        },
        "outputId": "bd3a87c3-bb99-49bb-d132-c3a97a3839f3"
      },
      "source": [
        "# Download datafile to cwd\n",
        "response = api.get_datafile(datafile_id)\n",
        "print('File size: ', len(response.content))\n",
        "\n",
        "with gzip.open(local_dir/'time_period_age_ner_train_reannotated.json.gz', 'wb') as f_out:\n",
        "  f_out.write(response.content)\n",
        "\n",
        "print('Files in current directory: ', '\\n', os.listdir())\n"
      ],
      "execution_count": 9,
      "outputs": [
        {
          "output_type": "stream",
          "text": [
            "File size:  120142\n",
            "Files in current directory:  \n",
            " ['.config', 'drive', 'sample_data']\n"
          ],
          "name": "stdout"
        }
      ]
    },
    {
      "cell_type": "markdown",
      "metadata": {
        "id": "gPeZhY3LYnJ5",
        "colab_type": "text"
      },
      "source": [
        "#Train a custon NER for time periods\n",
        "#### Source: [How to Train NER with Custom training data using spaCy](https://medium.com/@manivannan_data/how-to-train-ner-with-custom-training-data-using-spacy-188e0e508c6)\n",
        "\n"
      ]
    },
    {
      "cell_type": "code",
      "metadata": {
        "id": "ZKtq6uyCY3Cg",
        "colab_type": "code",
        "colab": {}
      },
      "source": [
        "# Convert data into spaCy format\n",
        "def convert_to_spacy_format(dlist):\n",
        "  SPACY_DATA = []\n",
        "  for data in dlist:\n",
        "    if data['content'] !='':\n",
        "      ents = [tuple(entity) for entity in data['entities']]\n",
        "      ents = [e for i, e, in enumerate(ents) if e not in ents[i+1:]]\n",
        "      SPACY_DATA.append((data['content'],{'entities':ents}))\n",
        "  return SPACY_DATA"
      ],
      "execution_count": 10,
      "outputs": []
    },
    {
      "cell_type": "code",
      "metadata": {
        "id": "IIJhwWP1fiK_",
        "colab_type": "code",
        "colab": {}
      },
      "source": [
        "# Re-tuning\n",
        "import spacy\n",
        "import random\n",
        "from spacy.util import minibatch, compounding\n",
        "\n",
        "def train_spacy(data,iterations):\n",
        "    TRAIN_DATA = data\n",
        "    nlp = spacy.blank('en')  # create blank Language class\n",
        "    # create the built-in pipeline components and add them to the pipeline\n",
        "    # nlp.create_pipe works for built-ins that are registered with spaCy\n",
        "    if 'ner' not in nlp.pipe_names:\n",
        "        ner = nlp.create_pipe('ner')\n",
        "        nlp.add_pipe(ner, last=True)\n",
        "       \n",
        "\n",
        "    # add labels\n",
        "    for _, annotations in TRAIN_DATA:\n",
        "         for ent in annotations.get('entities'):\n",
        "            ner.add_label(ent[2])\n",
        "\n",
        "    # get names of other pipes to disable them during training\n",
        "    other_pipes = [pipe for pipe in nlp.pipe_names if pipe != 'ner']\n",
        "    with nlp.disable_pipes(*other_pipes):  # only train NER\n",
        "        optimizer = nlp.begin_training()\n",
        "        loss = []\n",
        "        for itn in range(iterations):\n",
        "            print(\"Starting iteration \" + str(itn))\n",
        "            random.shuffle(TRAIN_DATA)\n",
        "            losses = {}\n",
        "            # batch up the examples using spaCy's minibatch\n",
        "            batches = minibatch(TRAIN_DATA, size=compounding(4.0, 32.0, 1.001))\n",
        "            for batch in batches:\n",
        "                texts, annotations = zip(*batch)\n",
        "                nlp.update(\n",
        "                    texts,  # batch of texts\n",
        "                    annotations,  # batch of annotations\n",
        "                    drop=0.2,  # dropout - make it harder to memorise data\n",
        "                    losses=losses,\n",
        "                    sgd = optimizer\n",
        "                )\n",
        "            print(losses)\n",
        "            loss.append(losses['ner'])\n",
        "        df = pd.DataFrame()\n",
        "        df['loss'] = loss\n",
        "    return (nlp, df)"
      ],
      "execution_count": 16,
      "outputs": []
    },
    {
      "cell_type": "markdown",
      "metadata": {
        "id": "ZnbpxQuk6cKP",
        "colab_type": "text"
      },
      "source": [
        "## Read re-annotated json file"
      ]
    },
    {
      "cell_type": "code",
      "metadata": {
        "id": "bU3_dSsfdIwE",
        "colab_type": "code",
        "colab": {
          "base_uri": "https://localhost:8080/",
          "height": 34
        },
        "outputId": "6f35c170-3f1f-4980-a9e9-4b307ab56860"
      },
      "source": [
        "with gzip.open(local_dir/'time_period_age_ner_train_reannotated.json.gz', 'rb') as f:\n",
        "    annotated = json.loads(f.read())\n",
        "    print('Number of annotated sentences:', len(annotated))\n"
      ],
      "execution_count": 11,
      "outputs": [
        {
          "output_type": "stream",
          "text": [
            "Number of annotated sentences: 461\n"
          ],
          "name": "stdout"
        }
      ]
    },
    {
      "cell_type": "code",
      "metadata": {
        "id": "kdKeCc0LDZLg",
        "colab_type": "code",
        "colab": {}
      },
      "source": [
        "#random.Random(2020).shuffle(annotated)\n",
        "#train = annotated[:round(len(annotated)*0.8)]\n",
        "#test = annotated[round(len(annotated)*0.8):]\n",
        "\n",
        "# New split for re-annotated sentences\n",
        "random.Random(2021).shuffle(annotated)\n",
        "train = annotated[:round(len(annotated)*0.8)]\n",
        "test = annotated[round(len(annotated)*0.8):]"
      ],
      "execution_count": 12,
      "outputs": []
    },
    {
      "cell_type": "markdown",
      "metadata": {
        "id": "zjk9AXcu6mj9",
        "colab_type": "text"
      },
      "source": [
        "## Convert json to spacy format"
      ]
    },
    {
      "cell_type": "code",
      "metadata": {
        "id": "qArwllv-W2yd",
        "colab_type": "code",
        "colab": {}
      },
      "source": [
        "TRAIN_DATA = convert_to_spacy_format(train)\n",
        "TEST_DATA = convert_to_spacy_format(test)"
      ],
      "execution_count": 13,
      "outputs": []
    },
    {
      "cell_type": "code",
      "metadata": {
        "id": "aMPqsWlj7JrK",
        "colab_type": "code",
        "colab": {
          "base_uri": "https://localhost:8080/",
          "height": 258
        },
        "outputId": "d33c1815-a8e1-4e20-d6eb-3237945a29fd"
      },
      "source": [
        "TEST_DATA[:5]"
      ],
      "execution_count": 14,
      "outputs": [
        {
          "output_type": "execute_result",
          "data": {
            "text/plain": [
              "[('For adults, the incubation periods for the majority (66.5%) of the cases were 1-9 days: most of them (57.6% and 52.0% for males and females, respectively) had 1-5 days incubation.',\n",
              "  {'entities': [(16, 72, 'TPcontext'), (78, 86, 'TPdata')]}),\n",
              " ('Shandong Province showed an longer period (more than two weeks) characterized by sustained local transmission and a larger peak value of Rt: 2.17 (95%CI: 1.69-2.76) considering an average serial interval of 5.9 days (Fig. 3C ).',\n",
              "  {'entities': [(180, 203, 'TPcontext'), (207, 215, 'TPdata')]}),\n",
              " ('Comparing those under and over-60 years of age, we find estimates that are consistent with those observed in cases from mainland China (Tables 1 and 2) .',\n",
              "  {'entities': [(31, 39, 'TPdata'), (43, 46, 'TPcontext')]}),\n",
              " ('Cases detected through symptom-based surveillance were confirmed on average 5.5 days (95% CI 5.0, 5.9) after symptom onset ( Figure 3 , Table S2 ); compared to 3.2 days (95% CI 2.6,3.7) in those detected by contact-based surveillance.',\n",
              "  {'entities': [(0, 49, 'TPcontext'),\n",
              "    (68, 122, 'TPdata'),\n",
              "    (160, 185, 'TPdata'),\n",
              "    (189, 233, 'TPcontext')]}),\n",
              " ('The median duration from Macau arrival to admission in imported cases was 3 days.',\n",
              "  {'entities': [(4, 51, 'TPcontext'), (74, 80, 'TPdata')]})]"
            ]
          },
          "metadata": {
            "tags": []
          },
          "execution_count": 14
        }
      ]
    },
    {
      "cell_type": "markdown",
      "metadata": {
        "id": "P3lcNC556sX2",
        "colab_type": "text"
      },
      "source": [
        "## Train the NER model\n"
      ]
    },
    {
      "cell_type": "code",
      "metadata": {
        "id": "u2qZLnZxctrd",
        "colab_type": "code",
        "colab": {
          "base_uri": "https://localhost:8080/",
          "height": 1000
        },
        "outputId": "a2967b0a-b3bb-47ce-bdae-93750047b96c"
      },
      "source": [
        "tpnlp, df = train_spacy(TRAIN_DATA, 75)"
      ],
      "execution_count": null,
      "outputs": [
        {
          "output_type": "stream",
          "text": [
            "Starting iteration 0\n",
            "{'ner': 5026.781189057219}\n",
            "Starting iteration 1\n",
            "{'ner': 5022.190710312876}\n",
            "Starting iteration 2\n",
            "{'ner': 3307.7980427011207}\n",
            "Starting iteration 3\n",
            "{'ner': 2810.377309774138}\n",
            "Starting iteration 4\n",
            "{'ner': 2319.2929374210853}\n",
            "Starting iteration 5\n",
            "{'ner': 2128.7410262492895}\n",
            "Starting iteration 6\n",
            "{'ner': 2233.0945550834713}\n",
            "Starting iteration 7\n",
            "{'ner': 1928.3132465177641}\n",
            "Starting iteration 8\n",
            "{'ner': 1635.03167264008}\n",
            "Starting iteration 9\n",
            "{'ner': 1513.4018516253834}\n",
            "Starting iteration 10\n",
            "{'ner': 1509.4470921120849}\n",
            "Starting iteration 11\n",
            "{'ner': 1560.7732241330707}\n",
            "Starting iteration 12\n",
            "{'ner': 1163.236340165762}\n",
            "Starting iteration 13\n",
            "{'ner': 1339.7338783335185}\n",
            "Starting iteration 14\n",
            "{'ner': 1118.358273261544}\n",
            "Starting iteration 15\n",
            "{'ner': 1072.9560185519526}\n",
            "Starting iteration 16\n",
            "{'ner': 968.6979714639587}\n",
            "Starting iteration 17\n",
            "{'ner': 984.2253554057814}\n",
            "Starting iteration 18\n",
            "{'ner': 1154.7523727985763}\n",
            "Starting iteration 19\n",
            "{'ner': 900.8140206815968}\n",
            "Starting iteration 20\n",
            "{'ner': 898.6706385293375}\n",
            "Starting iteration 21\n",
            "{'ner': 643.012657659782}\n",
            "Starting iteration 22\n",
            "{'ner': 797.5345399003118}\n",
            "Starting iteration 23\n",
            "{'ner': 695.8814456755732}\n",
            "Starting iteration 24\n",
            "{'ner': 778.1313339983546}\n",
            "Starting iteration 25\n",
            "{'ner': 553.9592010530738}\n",
            "Starting iteration 26\n",
            "{'ner': 653.0424974179206}\n",
            "Starting iteration 27\n",
            "{'ner': 629.2784105457619}\n",
            "Starting iteration 28\n",
            "{'ner': 637.6529536672834}\n",
            "Starting iteration 29\n",
            "{'ner': 473.0756994912375}\n",
            "Starting iteration 30\n",
            "{'ner': 458.3220184761748}\n",
            "Starting iteration 31\n",
            "{'ner': 552.170534278864}\n",
            "Starting iteration 32\n",
            "{'ner': 489.484229706066}\n",
            "Starting iteration 33\n",
            "{'ner': 516.6332733910449}\n",
            "Starting iteration 34\n",
            "{'ner': 639.969402916476}\n",
            "Starting iteration 35\n",
            "{'ner': 490.67755963529544}\n",
            "Starting iteration 36\n",
            "{'ner': 375.8754319329421}\n",
            "Starting iteration 37\n",
            "{'ner': 404.5699705341805}\n",
            "Starting iteration 38\n",
            "{'ner': 449.9317197353962}\n",
            "Starting iteration 39\n",
            "{'ner': 444.49168824180384}\n",
            "Starting iteration 40\n",
            "{'ner': 438.8662971914354}\n",
            "Starting iteration 41\n",
            "{'ner': 352.78975666534853}\n",
            "Starting iteration 42\n",
            "{'ner': 449.9804635431235}\n",
            "Starting iteration 43\n",
            "{'ner': 357.89363662541194}\n",
            "Starting iteration 44\n",
            "{'ner': 362.40108459224433}\n",
            "Starting iteration 45\n",
            "{'ner': 295.2079457556827}\n",
            "Starting iteration 46\n",
            "{'ner': 370.4368239658606}\n",
            "Starting iteration 47\n",
            "{'ner': 420.53030852379476}\n",
            "Starting iteration 48\n",
            "{'ner': 342.9379407991203}\n",
            "Starting iteration 49\n",
            "{'ner': 362.775482177395}\n",
            "Starting iteration 50\n",
            "{'ner': 251.57644686109157}\n",
            "Starting iteration 51\n",
            "{'ner': 328.29870416988445}\n",
            "Starting iteration 52\n",
            "{'ner': 228.34502740582897}\n",
            "Starting iteration 53\n",
            "{'ner': 267.08264769546935}\n",
            "Starting iteration 54\n",
            "{'ner': 229.94649640488666}\n",
            "Starting iteration 55\n",
            "{'ner': 242.16491824716695}\n",
            "Starting iteration 56\n",
            "{'ner': 257.87086648095084}\n",
            "Starting iteration 57\n",
            "{'ner': 272.7356847539649}\n",
            "Starting iteration 58\n",
            "{'ner': 251.6201806293342}\n",
            "Starting iteration 59\n",
            "{'ner': 203.75553127130712}\n",
            "Starting iteration 60\n",
            "{'ner': 217.6505279519873}\n",
            "Starting iteration 61\n",
            "{'ner': 240.96014093765132}\n",
            "Starting iteration 62\n",
            "{'ner': 202.46686236121448}\n",
            "Starting iteration 63\n",
            "{'ner': 160.79892013923802}\n",
            "Starting iteration 64\n",
            "{'ner': 164.72563577747482}\n",
            "Starting iteration 65\n",
            "{'ner': 202.50540102523897}\n",
            "Starting iteration 66\n",
            "{'ner': 274.35850158489757}\n",
            "Starting iteration 67\n",
            "{'ner': 182.02365039439223}\n",
            "Starting iteration 68\n",
            "{'ner': 240.89691185196304}\n",
            "Starting iteration 69\n",
            "{'ner': 324.2764885907373}\n",
            "Starting iteration 70\n",
            "{'ner': 228.24351663537823}\n",
            "Starting iteration 71\n",
            "{'ner': 223.0523733734151}\n",
            "Starting iteration 72\n",
            "{'ner': 244.8303567298067}\n",
            "Starting iteration 73\n",
            "{'ner': 144.9888979671503}\n",
            "Starting iteration 74\n",
            "{'ner': 176.95959921795162}\n"
          ],
          "name": "stdout"
        }
      ]
    },
    {
      "cell_type": "markdown",
      "metadata": {
        "id": "c7245dTc6ybR",
        "colab_type": "text"
      },
      "source": [
        "## Plot loss over iterations"
      ]
    },
    {
      "cell_type": "code",
      "metadata": {
        "id": "6Y3X9xSAvrdL",
        "colab_type": "code",
        "colab": {
          "base_uri": "https://localhost:8080/",
          "height": 282
        },
        "outputId": "368617db-d179-4abe-d78e-ba4a974856d4"
      },
      "source": [
        "df.plot()"
      ],
      "execution_count": null,
      "outputs": [
        {
          "output_type": "execute_result",
          "data": {
            "text/plain": [
              "<matplotlib.axes._subplots.AxesSubplot at 0x7fbcd8b3d780>"
            ]
          },
          "metadata": {
            "tags": []
          },
          "execution_count": 133
        },
        {
          "output_type": "display_data",
          "data": {
            "image/png": "[encoded data removed]",
            "text/plain": [
              "<Figure size 432x288 with 1 Axes>"
            ]
          },
          "metadata": {
            "tags": [],
            "needs_background": "light"
          }
        }
      ]
    },
    {
      "cell_type": "markdown",
      "metadata": {
        "id": "zbNFED4S62QP",
        "colab_type": "text"
      },
      "source": [
        "## Save trained model"
      ]
    },
    {
      "cell_type": "code",
      "metadata": {
        "id": "G-CypXzPc-Sy",
        "colab_type": "code",
        "colab": {
          "base_uri": "https://localhost:8080/",
          "height": 34
        },
        "outputId": "f27ec149-e01b-47f2-d173-05b8f46fb41b"
      },
      "source": [
        "modelfile = input(\"Enter your Model Name: \")\n",
        "tpnlp.to_disk(Path(local_dir/modelfile))"
      ],
      "execution_count": null,
      "outputs": [
        {
          "output_type": "stream",
          "text": [
            "Enter your Model Name: TimePeriodNER_75_v2\n"
          ],
          "name": "stdout"
        }
      ]
    },
    {
      "cell_type": "markdown",
      "metadata": {
        "id": "rzqGKSrR68VV",
        "colab_type": "text"
      },
      "source": [
        "## Predict model on test set"
      ]
    },
    {
      "cell_type": "code",
      "metadata": {
        "id": "kt9RqlQPecyV",
        "colab_type": "code",
        "colab": {}
      },
      "source": [
        "# Load saved model\n",
        "# modelfile = 'TimePeriodNER_75_v2'\n",
        "tpnlp = spacy.load(Path(local_dir/modelfile))\n",
        "\n",
        "test_results_dict = defaultdict(list)\n",
        "true_texts = []\n",
        "true_labels = []\n",
        "for test_instance in TEST_DATA:\n",
        "  test_sentence, entities = test_instance        \n",
        "  test_doc = tpnlp(test_sentence)\n",
        "  true_texts.append([test_sentence[original_entity[0]:original_entity[1]] for original_entity in entities['entities']])\n",
        "  true_labels.append([original_entity[2] for original_entity in entities['entities']])\n",
        "  predicted_texts = []\n",
        "  predicted_labels = []\n",
        "  for ent in test_doc.ents:\n",
        "    predicted_texts.append(ent.text)\n",
        "    predicted_labels.append(ent.label_)\n",
        "  test_results_dict['sentence'].append(test_sentence)\n",
        "  test_results_dict['predicted_text'].append(predicted_texts)\n",
        "  test_results_dict['predicted_label'].append(predicted_labels)\n",
        "test_results = pd.DataFrame(test_results_dict)\n",
        "test_results['true_text'] = true_texts\n",
        "test_results['true_label'] = true_labels"
      ],
      "execution_count": 17,
      "outputs": []
    },
    {
      "cell_type": "code",
      "metadata": {
        "id": "Nyc0aar2fHCH",
        "colab_type": "code",
        "colab": {
          "base_uri": "https://localhost:8080/",
          "height": 255
        },
        "outputId": "c2d15b4f-0736-4de4-cb3e-b8f41e651023"
      },
      "source": [
        "test_results.head()"
      ],
      "execution_count": 18,
      "outputs": [
        {
          "output_type": "execute_result",
          "data": {
            "text/html": [
              "<div>\n",
              "<style scoped>\n",
              "    .dataframe tbody tr th:only-of-type {\n",
              "        vertical-align: middle;\n",
              "    }\n",
              "\n",
              "    .dataframe tbody tr th {\n",
              "        vertical-align: top;\n",
              "    }\n",
              "\n",
              "    .dataframe thead th {\n",
              "        text-align: right;\n",
              "    }\n",
              "</style>\n",
              "<table border=\"1\" class=\"dataframe\">\n",
              "  <thead>\n",
              "    <tr style=\"text-align: right;\">\n",
              "      <th></th>\n",
              "      <th>sentence</th>\n",
              "      <th>predicted_text</th>\n",
              "      <th>predicted_label</th>\n",
              "      <th>true_text</th>\n",
              "      <th>true_label</th>\n",
              "    </tr>\n",
              "  </thead>\n",
              "  <tbody>\n",
              "    <tr>\n",
              "      <th>0</th>\n",
              "      <td>For adults, the incubation periods for the maj...</td>\n",
              "      <td>[incubation periods for the majority, 1-9 days...</td>\n",
              "      <td>[TPcontext, TPdata]</td>\n",
              "      <td>[incubation periods for the majority (66.5%) o...</td>\n",
              "      <td>[TPcontext, TPdata]</td>\n",
              "    </tr>\n",
              "    <tr>\n",
              "      <th>1</th>\n",
              "      <td>Shandong Province showed an longer period (mor...</td>\n",
              "      <td>[characterized by sustained local transmission...</td>\n",
              "      <td>[TPcontext, TPcontext, TPdata]</td>\n",
              "      <td>[average serial interval, 5.9 days]</td>\n",
              "      <td>[TPcontext, TPdata]</td>\n",
              "    </tr>\n",
              "    <tr>\n",
              "      <th>2</th>\n",
              "      <td>Comparing those under and over-60 years of age...</td>\n",
              "      <td>[]</td>\n",
              "      <td>[]</td>\n",
              "      <td>[60 years, age]</td>\n",
              "      <td>[TPdata, TPcontext]</td>\n",
              "    </tr>\n",
              "    <tr>\n",
              "      <th>3</th>\n",
              "      <td>Cases detected through symptom-based surveilla...</td>\n",
              "      <td>[Cases detected through symptom-based surveill...</td>\n",
              "      <td>[TPcontext, TPdata, TPdata, TPcontext]</td>\n",
              "      <td>[Cases detected through symptom-based surveill...</td>\n",
              "      <td>[TPcontext, TPdata, TPdata, TPcontext]</td>\n",
              "    </tr>\n",
              "    <tr>\n",
              "      <th>4</th>\n",
              "      <td>The median duration from Macau arrival to admi...</td>\n",
              "      <td>[median duration from Macau arrival to admissi...</td>\n",
              "      <td>[TPcontext, TPdata]</td>\n",
              "      <td>[median duration from Macau arrival to admissi...</td>\n",
              "      <td>[TPcontext, TPdata]</td>\n",
              "    </tr>\n",
              "  </tbody>\n",
              "</table>\n",
              "</div>"
            ],
            "text/plain": [
              "                                            sentence  ...                              true_label\n",
              "0  For adults, the incubation periods for the maj...  ...                     [TPcontext, TPdata]\n",
              "1  Shandong Province showed an longer period (mor...  ...                     [TPcontext, TPdata]\n",
              "2  Comparing those under and over-60 years of age...  ...                     [TPdata, TPcontext]\n",
              "3  Cases detected through symptom-based surveilla...  ...  [TPcontext, TPdata, TPdata, TPcontext]\n",
              "4  The median duration from Macau arrival to admi...  ...                     [TPcontext, TPdata]\n",
              "\n",
              "[5 rows x 5 columns]"
            ]
          },
          "metadata": {
            "tags": []
          },
          "execution_count": 18
        }
      ]
    },
    {
      "cell_type": "code",
      "metadata": {
        "id": "PgokXDaYutaw",
        "colab_type": "code",
        "colab": {}
      },
      "source": [
        "test_results[['sentence','true_text','true_label','predicted_text','predicted_label']].to_csv(local_dir/'time_period_results_v2.csv', index=False)"
      ],
      "execution_count": null,
      "outputs": []
    },
    {
      "cell_type": "markdown",
      "metadata": {
        "id": "zmIJdOEe7Eu8",
        "colab_type": "text"
      },
      "source": [
        "# Evaluate model\n",
        "\n",
        "Based on methods outlined [here](https://towardsdatascience.com/entity-level-evaluation-for-ner-task-c21fb3a8edf)."
      ]
    },
    {
      "cell_type": "code",
      "metadata": {
        "id": "_agQSBg3ljCR",
        "colab_type": "code",
        "colab": {}
      },
      "source": [
        "def calc_cf(x):\n",
        "  '''Returns a data frame of predicted and actual texts along with the classification label'''\n",
        "  results_list = []\n",
        "  sentence = x['sentence']\n",
        "  true_text = x['true_text']\n",
        "  predicted_text = x['predicted_text']\n",
        "  true_label = x['true_label']\n",
        "  predicted_label = x['predicted_label']\n",
        "  if len(true_label) == len(predicted_label):\n",
        "    texts = list(zip(true_text,predicted_text))\n",
        "    labels = list(zip(true_label, predicted_label))\n",
        "    for i in range(len(texts)):\n",
        "      (true_text, predict_text) = texts[i]\n",
        "      (true_label, predict_label) = labels[i]\n",
        "      if ((true_text in predict_text) and (true_label == predict_label)) or ((predict_text in true_text) and (true_label == predict_label)):\n",
        "        label = 'tp'\n",
        "      elif ((true_label == predict_label) and (true_text != predict_text)) or (true_label != predict_label):\n",
        "        label = 'fn & fp'\n",
        "      else:\n",
        "        continue\n",
        "      results_list.append({'sentence':sentence,'true_text':true_text,'predicted_text':predict_text,'true_label':true_label,'predicted_label':predict_label,'cf_label':label})  \n",
        "  else:\n",
        "    results_list = compare_two_list(true_label, predicted_label, true_text, predicted_text, sentence)\n",
        "  results_df = pd.DataFrame(results_list,columns=['sentence','true_text','predicted_text','true_label','predicted_label','cf_label'])\n",
        "  return results_df"
      ],
      "execution_count": null,
      "outputs": []
    },
    {
      "cell_type": "code",
      "metadata": {
        "id": "LiQPJoPuxCfE",
        "colab_type": "code",
        "colab": {}
      },
      "source": [
        "def compare_two_list(true_label, predicted_label, true_text, predicted_text, sentence):\n",
        "  '''Compare actual and predicted text if they have different lengths'''\n",
        "  results_list = []\n",
        "  dic = {}\n",
        "  # Get true positive matches\n",
        "  for i in range(len(true_text)):\n",
        "    for j in range(len(predicted_text)):\n",
        "      if ((predicted_text[j] in true_text[i]) and (true_label[i] == predicted_label[j])) or ((true_text[i] in predicted_text[j]) and (true_label[i] == predicted_label[j])):\n",
        "        dic[true_text[i]] = predicted_text[j]\n",
        "        label = 'tp'\n",
        "        predict_text = predicted_text[j]\n",
        "        actual_text = true_text[i]\n",
        "        actual_label = true_label[i]\n",
        "        predict_label = predicted_label[j]\n",
        "        results_list.append({'sentence':sentence,'true_text':actual_text,'predicted_text':predict_text,'true_label':actual_label,'predicted_label':predict_label,'cf_label':label})\n",
        "        break  \n",
        "  # Get false negatives\n",
        "  for t in range(len(true_text)):\n",
        "    if true_text[t] not in dic.keys():\n",
        "      label1 = 'fn'\n",
        "      actual_text1 = true_text[t]\n",
        "      actual_label1 = true_label[t]\n",
        "      predict_text1 = None\n",
        "      predict_label1 = None\n",
        "      results_list.append({'sentence':sentence,'true_text':actual_text1,'predicted_text':predict_text1,'true_label':actual_label1,'predicted_label':predict_label1,'cf_label':label1})\n",
        "  # Get false positives\n",
        "  for p in range(len(predicted_text)):\n",
        "    if predicted_text[p] not in dic.values():\n",
        "      label2 = 'fp'\n",
        "      actual_text2 = None\n",
        "      actual_label2 = None\n",
        "      predict_text2 = predicted_text[p]\n",
        "      predict_label2 = predicted_label[p]\n",
        "      results_list.append({'sentence':sentence,'true_text':actual_text2,'predicted_text':predict_text2,'true_label':actual_label2,'predicted_label':predict_label2,'cf_label':label2})\n",
        "  return results_list"
      ],
      "execution_count": null,
      "outputs": []
    },
    {
      "cell_type": "code",
      "metadata": {
        "id": "O_ClgwWClvAq",
        "colab_type": "code",
        "colab": {}
      },
      "source": [
        "# Running code for entire data frame\n",
        "test_results_labels = pd.DataFrame()\n",
        "for i in range(len(test_results)):\n",
        "  res = calc_cf(test_results.loc[i])\n",
        "  test_results_labels = pd.concat([test_results_labels,res], ignore_index=True)"
      ],
      "execution_count": null,
      "outputs": []
    },
    {
      "cell_type": "code",
      "metadata": {
        "id": "1Quejd0olw8U",
        "colab_type": "code",
        "colab": {}
      },
      "source": [
        "def calc_stats(x, label):\n",
        "  '''Calculate statistics for confusion matrix'''\n",
        "  fn = 0\n",
        "  fp = 0\n",
        "  tp = 0\n",
        "  for i in range(len(x)):\n",
        "    if x.loc[i][label] == 'fn & fp':\n",
        "      fn += 1\n",
        "      fp += 1\n",
        "    elif x.loc[i][label] == 'fn':\n",
        "      fn += 1\n",
        "    elif x.loc[i][label] == 'fp':\n",
        "      fp += 1\n",
        "    else:\n",
        "      tp += 1\n",
        "  return (fn, fp, tp)"
      ],
      "execution_count": null,
      "outputs": []
    },
    {
      "cell_type": "code",
      "metadata": {
        "id": "kWK6lhYQl1fS",
        "colab_type": "code",
        "colab": {
          "base_uri": "https://localhost:8080/",
          "height": 85
        },
        "outputId": "0f4adf63-5ad9-426f-b335-18b623ad4633"
      },
      "source": [
        "(fn, fp, tp) = calc_stats(test_results_labels,'cf_label')\n",
        "print('Number of false negatives',fn)\n",
        "print('Number of false postitives', fp)\n",
        "print('Number of true positives', tp)\n",
        "print('Total Number of records', fn+fp+tp)"
      ],
      "execution_count": null,
      "outputs": [
        {
          "output_type": "stream",
          "text": [
            "Number of false negatives 42\n",
            "Number of false postitives 42\n",
            "Number of true positives 208\n",
            "Total Number of records 292\n"
          ],
          "name": "stdout"
        }
      ]
    },
    {
      "cell_type": "code",
      "metadata": {
        "id": "6M7W27hVl3CA",
        "colab_type": "code",
        "colab": {}
      },
      "source": [
        "def cf(tp, fp, fn):\n",
        "  '''Calculate precision, recall, and f1-score'''\n",
        "  recall = tp/(tp+fn)\n",
        "  precision = tp/(tp+fp)\n",
        "  f1 = (2*recall*precision)/(recall+precision)\n",
        "  return (recall, precision, f1)"
      ],
      "execution_count": null,
      "outputs": []
    },
    {
      "cell_type": "code",
      "metadata": {
        "id": "bcmXzcEnl3gS",
        "colab_type": "code",
        "colab": {}
      },
      "source": [
        "recall, precision, f1 = cf(tp, fp, fn)"
      ],
      "execution_count": null,
      "outputs": []
    },
    {
      "cell_type": "code",
      "metadata": {
        "id": "wMMJSGcel4-i",
        "colab_type": "code",
        "colab": {
          "base_uri": "https://localhost:8080/",
          "height": 68
        },
        "outputId": "451b168d-31ef-4594-9395-88894f105071"
      },
      "source": [
        "print('Precision',round(precision,2))\n",
        "print('Recall',round(recall,2))\n",
        "print('F1 score',round(f1,2))"
      ],
      "execution_count": null,
      "outputs": [
        {
          "output_type": "stream",
          "text": [
            "Precision 0.83\n",
            "Recall 0.83\n",
            "F1 score 0.83\n"
          ],
          "name": "stdout"
        }
      ]
    },
    {
      "cell_type": "code",
      "metadata": {
        "id": "YbgupYPVwSJM",
        "colab_type": "code",
        "colab": {
          "base_uri": "https://localhost:8080/",
          "height": 529
        },
        "outputId": "f5a32b36-d3ae-46e0-e46a-065ee92ee457"
      },
      "source": [
        "test_results.head(10)"
      ],
      "execution_count": null,
      "outputs": [
        {
          "output_type": "execute_result",
          "data": {
            "text/html": [
              "<div>\n",
              "<style scoped>\n",
              "    .dataframe tbody tr th:only-of-type {\n",
              "        vertical-align: middle;\n",
              "    }\n",
              "\n",
              "    .dataframe tbody tr th {\n",
              "        vertical-align: top;\n",
              "    }\n",
              "\n",
              "    .dataframe thead th {\n",
              "        text-align: right;\n",
              "    }\n",
              "</style>\n",
              "<table border=\"1\" class=\"dataframe\">\n",
              "  <thead>\n",
              "    <tr style=\"text-align: right;\">\n",
              "      <th></th>\n",
              "      <th>sentence</th>\n",
              "      <th>predicted_text</th>\n",
              "      <th>predicted_label</th>\n",
              "      <th>true_text</th>\n",
              "      <th>true_label</th>\n",
              "    </tr>\n",
              "  </thead>\n",
              "  <tbody>\n",
              "    <tr>\n",
              "      <th>0</th>\n",
              "      <td>For adults, the incubation periods for the maj...</td>\n",
              "      <td>[incubation periods for the majority, 1-9 days...</td>\n",
              "      <td>[TPcontext, TPdata]</td>\n",
              "      <td>[incubation periods for the majority (66.5%) o...</td>\n",
              "      <td>[TPcontext, TPdata]</td>\n",
              "    </tr>\n",
              "    <tr>\n",
              "      <th>1</th>\n",
              "      <td>Shandong Province showed an longer period (mor...</td>\n",
              "      <td>[characterized by sustained local transmission...</td>\n",
              "      <td>[TPcontext, TPcontext, TPdata]</td>\n",
              "      <td>[average serial interval, 5.9 days]</td>\n",
              "      <td>[TPcontext, TPdata]</td>\n",
              "    </tr>\n",
              "    <tr>\n",
              "      <th>2</th>\n",
              "      <td>Comparing those under and over-60 years of age...</td>\n",
              "      <td>[]</td>\n",
              "      <td>[]</td>\n",
              "      <td>[60 years, age]</td>\n",
              "      <td>[TPdata, TPcontext]</td>\n",
              "    </tr>\n",
              "    <tr>\n",
              "      <th>3</th>\n",
              "      <td>Cases detected through symptom-based surveilla...</td>\n",
              "      <td>[Cases detected through symptom-based surveill...</td>\n",
              "      <td>[TPcontext, TPdata, TPdata, TPcontext]</td>\n",
              "      <td>[Cases detected through symptom-based surveill...</td>\n",
              "      <td>[TPcontext, TPdata, TPdata, TPcontext]</td>\n",
              "    </tr>\n",
              "    <tr>\n",
              "      <th>4</th>\n",
              "      <td>The median duration from Macau arrival to admi...</td>\n",
              "      <td>[median duration from Macau arrival to admissi...</td>\n",
              "      <td>[TPcontext, TPdata]</td>\n",
              "      <td>[median duration from Macau arrival to admissi...</td>\n",
              "      <td>[TPcontext, TPdata]</td>\n",
              "    </tr>\n",
              "    <tr>\n",
              "      <th>5</th>\n",
              "      <td>Second, due to the massive number of patients ...</td>\n",
              "      <td>[lack of medical resources, the interval from ...</td>\n",
              "      <td>[TPcontext, TPdata]</td>\n",
              "      <td>[interval from the illness onset to hospital a...</td>\n",
              "      <td>[TPcontext, TPdata]</td>\n",
              "    </tr>\n",
              "    <tr>\n",
              "      <th>6</th>\n",
              "      <td>The mean incubation period is 6.4 days (95% 17...</td>\n",
              "      <td>[mean incubation period, 6.4 days (95% 175 CI ...</td>\n",
              "      <td>[TPcontext, TPdata, TPcontext, TPcontext, TPdata]</td>\n",
              "      <td>[mean incubation period, 6.4 days (95% 175 CI ...</td>\n",
              "      <td>[TPcontext, TPdata, TPcontext, TPdata]</td>\n",
              "    </tr>\n",
              "    <tr>\n",
              "      <th>7</th>\n",
              "      <td>The median duration to negative reverse-transc...</td>\n",
              "      <td>[median duration to negative, 11 days (95 CIs:...</td>\n",
              "      <td>[TPcontext, TPdata]</td>\n",
              "      <td>[median duration to negative reverse-transcrip...</td>\n",
              "      <td>[TPcontext, TPdata]</td>\n",
              "    </tr>\n",
              "    <tr>\n",
              "      <th>8</th>\n",
              "      <td>6 Older individuals (aged &gt;60 years) and peopl...</td>\n",
              "      <td>[&gt;60 years)]</td>\n",
              "      <td>[TPdata]</td>\n",
              "      <td>[aged , &gt;60 years]</td>\n",
              "      <td>[TPcontext, TPdata]</td>\n",
              "    </tr>\n",
              "    <tr>\n",
              "      <th>9</th>\n",
              "      <td>The median age was 51 years old (IQR, 36-64 ye...</td>\n",
              "      <td>[median age, 51 years old (IQR, 36-64 years)]</td>\n",
              "      <td>[TPcontext, TPdata]</td>\n",
              "      <td>[median age , 51 years old (IQR, 36-64 years)]</td>\n",
              "      <td>[TPcontext, TPdata]</td>\n",
              "    </tr>\n",
              "  </tbody>\n",
              "</table>\n",
              "</div>"
            ],
            "text/plain": [
              "                                            sentence  ...                              true_label\n",
              "0  For adults, the incubation periods for the maj...  ...                     [TPcontext, TPdata]\n",
              "1  Shandong Province showed an longer period (mor...  ...                     [TPcontext, TPdata]\n",
              "2  Comparing those under and over-60 years of age...  ...                     [TPdata, TPcontext]\n",
              "3  Cases detected through symptom-based surveilla...  ...  [TPcontext, TPdata, TPdata, TPcontext]\n",
              "4  The median duration from Macau arrival to admi...  ...                     [TPcontext, TPdata]\n",
              "5  Second, due to the massive number of patients ...  ...                     [TPcontext, TPdata]\n",
              "6  The mean incubation period is 6.4 days (95% 17...  ...  [TPcontext, TPdata, TPcontext, TPdata]\n",
              "7  The median duration to negative reverse-transc...  ...                     [TPcontext, TPdata]\n",
              "8  6 Older individuals (aged >60 years) and peopl...  ...                     [TPcontext, TPdata]\n",
              "9  The median age was 51 years old (IQR, 36-64 ye...  ...                     [TPcontext, TPdata]\n",
              "\n",
              "[10 rows x 5 columns]"
            ]
          },
          "metadata": {
            "tags": []
          },
          "execution_count": 146
        }
      ]
    },
    {
      "cell_type": "code",
      "metadata": {
        "id": "_ppICoOfwAzY",
        "colab_type": "code",
        "colab": {
          "base_uri": "https://localhost:8080/",
          "height": 822
        },
        "outputId": "791215de-19f1-4f37-dee5-748b93b0d35e"
      },
      "source": [
        "test_results_labels.head(20)"
      ],
      "execution_count": null,
      "outputs": [
        {
          "output_type": "execute_result",
          "data": {
            "text/html": [
              "<div>\n",
              "<style scoped>\n",
              "    .dataframe tbody tr th:only-of-type {\n",
              "        vertical-align: middle;\n",
              "    }\n",
              "\n",
              "    .dataframe tbody tr th {\n",
              "        vertical-align: top;\n",
              "    }\n",
              "\n",
              "    .dataframe thead th {\n",
              "        text-align: right;\n",
              "    }\n",
              "</style>\n",
              "<table border=\"1\" class=\"dataframe\">\n",
              "  <thead>\n",
              "    <tr style=\"text-align: right;\">\n",
              "      <th></th>\n",
              "      <th>sentence</th>\n",
              "      <th>true_text</th>\n",
              "      <th>predicted_text</th>\n",
              "      <th>true_label</th>\n",
              "      <th>predicted_label</th>\n",
              "      <th>cf_label</th>\n",
              "    </tr>\n",
              "  </thead>\n",
              "  <tbody>\n",
              "    <tr>\n",
              "      <th>0</th>\n",
              "      <td>For adults, the incubation periods for the maj...</td>\n",
              "      <td>incubation periods for the majority (66.5%) of...</td>\n",
              "      <td>incubation periods for the majority</td>\n",
              "      <td>TPcontext</td>\n",
              "      <td>TPcontext</td>\n",
              "      <td>tp</td>\n",
              "    </tr>\n",
              "    <tr>\n",
              "      <th>1</th>\n",
              "      <td>For adults, the incubation periods for the maj...</td>\n",
              "      <td>1-9 days</td>\n",
              "      <td>1-9 days: most of them</td>\n",
              "      <td>TPdata</td>\n",
              "      <td>TPdata</td>\n",
              "      <td>tp</td>\n",
              "    </tr>\n",
              "    <tr>\n",
              "      <th>2</th>\n",
              "      <td>Shandong Province showed an longer period (mor...</td>\n",
              "      <td>average serial interval</td>\n",
              "      <td>average serial interval</td>\n",
              "      <td>TPcontext</td>\n",
              "      <td>TPcontext</td>\n",
              "      <td>tp</td>\n",
              "    </tr>\n",
              "    <tr>\n",
              "      <th>3</th>\n",
              "      <td>Shandong Province showed an longer period (mor...</td>\n",
              "      <td>5.9 days</td>\n",
              "      <td>5.9 days</td>\n",
              "      <td>TPdata</td>\n",
              "      <td>TPdata</td>\n",
              "      <td>tp</td>\n",
              "    </tr>\n",
              "    <tr>\n",
              "      <th>4</th>\n",
              "      <td>Shandong Province showed an longer period (mor...</td>\n",
              "      <td>None</td>\n",
              "      <td>characterized by sustained local transmission</td>\n",
              "      <td>None</td>\n",
              "      <td>TPcontext</td>\n",
              "      <td>fp</td>\n",
              "    </tr>\n",
              "    <tr>\n",
              "      <th>5</th>\n",
              "      <td>Comparing those under and over-60 years of age...</td>\n",
              "      <td>60 years</td>\n",
              "      <td>None</td>\n",
              "      <td>TPdata</td>\n",
              "      <td>None</td>\n",
              "      <td>fn</td>\n",
              "    </tr>\n",
              "    <tr>\n",
              "      <th>6</th>\n",
              "      <td>Comparing those under and over-60 years of age...</td>\n",
              "      <td>age</td>\n",
              "      <td>None</td>\n",
              "      <td>TPcontext</td>\n",
              "      <td>None</td>\n",
              "      <td>fn</td>\n",
              "    </tr>\n",
              "    <tr>\n",
              "      <th>7</th>\n",
              "      <td>Cases detected through symptom-based surveilla...</td>\n",
              "      <td>Cases detected through symptom-based surveillance</td>\n",
              "      <td>Cases detected through symptom-based surveilla...</td>\n",
              "      <td>TPcontext</td>\n",
              "      <td>TPcontext</td>\n",
              "      <td>tp</td>\n",
              "    </tr>\n",
              "    <tr>\n",
              "      <th>8</th>\n",
              "      <td>Cases detected through symptom-based surveilla...</td>\n",
              "      <td>average 5.5 days (95% CI 5.0, 5.9) after sympt...</td>\n",
              "      <td>on average 5.5 days (95% CI 5.0, 5.9) after sy...</td>\n",
              "      <td>TPdata</td>\n",
              "      <td>TPdata</td>\n",
              "      <td>tp</td>\n",
              "    </tr>\n",
              "    <tr>\n",
              "      <th>9</th>\n",
              "      <td>Cases detected through symptom-based surveilla...</td>\n",
              "      <td>3.2 days (95% CI 2.6,3.7)</td>\n",
              "      <td>3.2 days (95% CI 2.6,3.7)</td>\n",
              "      <td>TPdata</td>\n",
              "      <td>TPdata</td>\n",
              "      <td>tp</td>\n",
              "    </tr>\n",
              "    <tr>\n",
              "      <th>10</th>\n",
              "      <td>Cases detected through symptom-based surveilla...</td>\n",
              "      <td>those detected by contact-based surveillance</td>\n",
              "      <td>those detected by contact-based surveillance</td>\n",
              "      <td>TPcontext</td>\n",
              "      <td>TPcontext</td>\n",
              "      <td>tp</td>\n",
              "    </tr>\n",
              "    <tr>\n",
              "      <th>11</th>\n",
              "      <td>The median duration from Macau arrival to admi...</td>\n",
              "      <td>median duration from Macau arrival to admission</td>\n",
              "      <td>median duration from Macau arrival to admissio...</td>\n",
              "      <td>TPcontext</td>\n",
              "      <td>TPcontext</td>\n",
              "      <td>tp</td>\n",
              "    </tr>\n",
              "    <tr>\n",
              "      <th>12</th>\n",
              "      <td>The median duration from Macau arrival to admi...</td>\n",
              "      <td>3 days</td>\n",
              "      <td>3 days</td>\n",
              "      <td>TPdata</td>\n",
              "      <td>TPdata</td>\n",
              "      <td>tp</td>\n",
              "    </tr>\n",
              "    <tr>\n",
              "      <th>13</th>\n",
              "      <td>Second, due to the massive number of patients ...</td>\n",
              "      <td>interval from the illness onset to hospital ad...</td>\n",
              "      <td>lack of medical resources, the interval from t...</td>\n",
              "      <td>TPcontext</td>\n",
              "      <td>TPcontext</td>\n",
              "      <td>tp</td>\n",
              "    </tr>\n",
              "    <tr>\n",
              "      <th>14</th>\n",
              "      <td>Second, due to the massive number of patients ...</td>\n",
              "      <td>more than 10 days</td>\n",
              "      <td>more than 10 days</td>\n",
              "      <td>TPdata</td>\n",
              "      <td>TPdata</td>\n",
              "      <td>tp</td>\n",
              "    </tr>\n",
              "    <tr>\n",
              "      <th>15</th>\n",
              "      <td>The mean incubation period is 6.4 days (95% 17...</td>\n",
              "      <td>mean incubation period</td>\n",
              "      <td>mean incubation period</td>\n",
              "      <td>TPcontext</td>\n",
              "      <td>TPcontext</td>\n",
              "      <td>tp</td>\n",
              "    </tr>\n",
              "    <tr>\n",
              "      <th>16</th>\n",
              "      <td>The mean incubation period is 6.4 days (95% 17...</td>\n",
              "      <td>6.4 days (95% 175 CI 5.3 to 7.6)</td>\n",
              "      <td>6.4 days (95% 175 CI 5.3 to 7.6)</td>\n",
              "      <td>TPdata</td>\n",
              "      <td>TPdata</td>\n",
              "      <td>tp</td>\n",
              "    </tr>\n",
              "    <tr>\n",
              "      <th>17</th>\n",
              "      <td>The mean incubation period is 6.4 days (95% 17...</td>\n",
              "      <td>5th and 95th percentile</td>\n",
              "      <td>5th and</td>\n",
              "      <td>TPcontext</td>\n",
              "      <td>TPcontext</td>\n",
              "      <td>tp</td>\n",
              "    </tr>\n",
              "    <tr>\n",
              "      <th>18</th>\n",
              "      <td>The mean incubation period is 6.4 days (95% 17...</td>\n",
              "      <td>0.97 and 13.10</td>\n",
              "      <td>0.97 and</td>\n",
              "      <td>TPdata</td>\n",
              "      <td>TPdata</td>\n",
              "      <td>tp</td>\n",
              "    </tr>\n",
              "    <tr>\n",
              "      <th>19</th>\n",
              "      <td>The mean incubation period is 6.4 days (95% 17...</td>\n",
              "      <td>None</td>\n",
              "      <td>95th percentile</td>\n",
              "      <td>None</td>\n",
              "      <td>TPcontext</td>\n",
              "      <td>fp</td>\n",
              "    </tr>\n",
              "  </tbody>\n",
              "</table>\n",
              "</div>"
            ],
            "text/plain": [
              "                                             sentence  ... cf_label\n",
              "0   For adults, the incubation periods for the maj...  ...       tp\n",
              "1   For adults, the incubation periods for the maj...  ...       tp\n",
              "2   Shandong Province showed an longer period (mor...  ...       tp\n",
              "3   Shandong Province showed an longer period (mor...  ...       tp\n",
              "4   Shandong Province showed an longer period (mor...  ...       fp\n",
              "5   Comparing those under and over-60 years of age...  ...       fn\n",
              "6   Comparing those under and over-60 years of age...  ...       fn\n",
              "7   Cases detected through symptom-based surveilla...  ...       tp\n",
              "8   Cases detected through symptom-based surveilla...  ...       tp\n",
              "9   Cases detected through symptom-based surveilla...  ...       tp\n",
              "10  Cases detected through symptom-based surveilla...  ...       tp\n",
              "11  The median duration from Macau arrival to admi...  ...       tp\n",
              "12  The median duration from Macau arrival to admi...  ...       tp\n",
              "13  Second, due to the massive number of patients ...  ...       tp\n",
              "14  Second, due to the massive number of patients ...  ...       tp\n",
              "15  The mean incubation period is 6.4 days (95% 17...  ...       tp\n",
              "16  The mean incubation period is 6.4 days (95% 17...  ...       tp\n",
              "17  The mean incubation period is 6.4 days (95% 17...  ...       tp\n",
              "18  The mean incubation period is 6.4 days (95% 17...  ...       tp\n",
              "19  The mean incubation period is 6.4 days (95% 17...  ...       fp\n",
              "\n",
              "[20 rows x 6 columns]"
            ]
          },
          "metadata": {
            "tags": []
          },
          "execution_count": 148
        }
      ]
    },
    {
      "cell_type": "code",
      "metadata": {
        "id": "Te0UxaMmiOrp",
        "colab_type": "code",
        "colab": {}
      },
      "source": [
        "test_results_labels.to_csv(local_dir/'evaluation_labels_v2.csv',index=False)"
      ],
      "execution_count": null,
      "outputs": []
    }
  ]
}